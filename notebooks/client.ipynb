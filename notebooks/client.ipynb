{
 "cells": [
  {
   "cell_type": "code",
   "execution_count": 22,
   "metadata": {},
   "outputs": [
    {
     "name": "stdout",
     "output_type": "stream",
     "text": [
      "{\n",
      "  \"probability\": 0.9986432929288868,\n",
      "  \"species\": \"Adelie\"\n",
      "}\n"
     ]
    },
    {
     "name": "stderr",
     "output_type": "stream",
     "text": [
      "  % Total    % Received % Xferd  Average Speed   Time    Time     Time  Current\n",
      "                                 Dload  Upload   Total   Spent    Left  Speed\n",
      "\n",
      "  0     0    0     0    0     0      0      0 --:--:-- --:--:-- --:--:--     0\n",
      "100   220  100    63  100   157  17008  42386 --:--:-- --:--:-- --:--:-- 73333\n"
     ]
    }
   ],
   "source": [
    "!curl --request POST \"http://127.0.0.1:8000/predict_lr\" \\\n",
    "--header \"Content-Type: application/json\" \\\n",
    "--data-raw \"{\\\n",
    "    \\\"island\\\": \\\"Biscoe\\\",\\\n",
    "    \\\"sex\\\": \\\"Male\\\",\\\n",
    "    \\\"bill_length_mm\\\": 39.1,\\\n",
    "    \\\"bill_depth_mm\\\": 18.7,\\\n",
    "    \\\"flipper_length_mm\\\": 181.0,\\\n",
    "    \\\"body_mass_g\\\": 3750\\\n",
    "}\"\n",
    "\n",
    "# Result comment:\n",
    "# The model predicts the species of the penguin to be \"Adelie\" with a probability of 0.9986432929288868\n"
   ]
  },
  {
   "cell_type": "code",
   "execution_count": 23,
   "metadata": {},
   "outputs": [
    {
     "name": "stdout",
     "output_type": "stream",
     "text": [
      "{\n",
      "  \"probability\": 0.9974427551629014,\n",
      "  \"species\": \"Adelie\"\n",
      "}\n"
     ]
    },
    {
     "name": "stderr",
     "output_type": "stream",
     "text": [
      "  % Total    % Received % Xferd  Average Speed   Time    Time     Time  Current\n",
      "                                 Dload  Upload   Total   Spent    Left  Speed\n",
      "\n",
      "  0     0    0     0    0     0      0      0 --:--:-- --:--:-- --:--:--     0\n",
      "100   219  100    63  100   156  19166  47459 --:--:-- --:--:-- --:--:-- 73000\n"
     ]
    }
   ],
   "source": [
    "!curl --request POST \"http://127.0.0.1:8000/predict_lr\" \\\n",
    "--header \"Content-Type: application/json\" \\\n",
    "--data-raw \"{\\\n",
    "    \\\"island\\\": \\\"Dream\\\",\\\n",
    "    \\\"sex\\\": \\\"Male\\\",\\\n",
    "    \\\"bill_length_mm\\\": 40.3,\\\n",
    "    \\\"bill_depth_mm\\\": 18.0,\\\n",
    "    \\\"flipper_length_mm\\\": 195.0,\\\n",
    "    \\\"body_mass_g\\\": 3800\\\n",
    "}\"\n",
    "\n",
    "# Result comment:\n",
    "# The model predicts the species of the penguin to be \"Adelie\" with a probability of 0.9974427551629014"
   ]
  },
  {
   "cell_type": "code",
   "execution_count": 24,
   "metadata": {},
   "outputs": [
    {
     "name": "stdout",
     "output_type": "stream",
     "text": [
      "{\n",
      "  \"probability\": 0.8735535507889995,\n",
      "  \"species\": \"Gentoo\"\n",
      "}\n"
     ]
    },
    {
     "name": "stderr",
     "output_type": "stream",
     "text": [
      "  % Total    % Received % Xferd  Average Speed   Time    Time     Time  Current\n",
      "                                 Dload  Upload   Total   Spent    Left  Speed\n",
      "\n",
      "  0     0    0     0    0     0      0      0 --:--:-- --:--:-- --:--:--     0\n",
      "100   221  100    63  100   158  15929  39949 --:--:-- --:--:-- --:--:-- 73666\n"
     ]
    }
   ],
   "source": [
    "!curl --request POST \"http://127.0.0.1:8000/predict_svm\" \\\n",
    "--header \"Content-Type: application/json\" \\\n",
    "--data-raw \"{\\\n",
    "    \\\"island\\\": \\\"Dream\\\",\\\n",
    "    \\\"sex\\\": \\\"Female\\\",\\\n",
    "    \\\"bill_length_mm\\\": 45.2,\\\n",
    "    \\\"bill_depth_mm\\\": 15.1,\\\n",
    "    \\\"flipper_length_mm\\\": 210.0,\\\n",
    "    \\\"body_mass_g\\\": 5000\\\n",
    "}\"\n",
    "\n",
    "# Result comment:\n",
    "# The model predicts the species of the penguin to be \"Gentoo\" with a probability of 0.8735535507889995"
   ]
  },
  {
   "cell_type": "code",
   "execution_count": 25,
   "metadata": {},
   "outputs": [
    {
     "name": "stdout",
     "output_type": "stream",
     "text": [
      "{\n",
      "  \"probability\": 0.9188680905353176,\n",
      "  \"species\": \"Adelie\"\n",
      "}\n"
     ]
    },
    {
     "name": "stderr",
     "output_type": "stream",
     "text": [
      "  % Total    % Received % Xferd  Average Speed   Time    Time     Time  Current\n",
      "                                 Dload  Upload   Total   Spent    Left  Speed\n",
      "\n",
      "  0     0    0     0    0     0      0      0 --:--:-- --:--:-- --:--:--     0\n",
      "100   222  100    63  100   159  10500  26500 --:--:-- --:--:-- --:--:-- 44400\n"
     ]
    }
   ],
   "source": [
    "!curl --request POST \"http://127.0.0.1:8000/predict_svm\" \\\n",
    "--header \"Content-Type: application/json\" \\\n",
    "--data-raw \"{\\\n",
    "    \\\"island\\\": \\\"Biscoe\\\",\\\n",
    "    \\\"sex\\\": \\\"Female\\\",\\\n",
    "    \\\"bill_length_mm\\\": 42.5,\\\n",
    "    \\\"bill_depth_mm\\\": 17.4,\\\n",
    "    \\\"flipper_length_mm\\\": 190.0,\\\n",
    "    \\\"body_mass_g\\\": 4100\\\n",
    "}\"\n",
    "\n",
    "# Result comment:\n",
    "# The model predicts the species of the penguin to be \"Adelie\" with a probability of 0.9188680905353176"
   ]
  },
  {
   "cell_type": "code",
   "execution_count": 26,
   "metadata": {},
   "outputs": [
    {
     "name": "stdout",
     "output_type": "stream",
     "text": [
      "{\n",
      "  \"probability\": 1.0,\n",
      "  \"species\": \"Adelie\"\n",
      "}\n"
     ]
    },
    {
     "name": "stderr",
     "output_type": "stream",
     "text": [
      "  % Total    % Received % Xferd  Average Speed   Time    Time     Time  Current\n",
      "                                 Dload  Upload   Total   Spent    Left  Speed\n",
      "\n",
      "  0     0    0     0    0     0      0      0 --:--:-- --:--:-- --:--:--     0\n",
      "100   208  100    48  100   160  11387  37959 --:--:-- --:--:-- --:--:-- 52000\n"
     ]
    }
   ],
   "source": [
    "!curl --request POST \"http://127.0.0.1:8000/predict_dt\" \\\n",
    "--header \"Content-Type: application/json\" \\\n",
    "--data-raw \"{\\\n",
    "    \\\"island\\\": \\\"Torgersen\\\",\\\n",
    "    \\\"sex\\\": \\\"Male\\\",\\\n",
    "    \\\"bill_length_mm\\\": 40.5,\\\n",
    "    \\\"bill_depth_mm\\\": 17.2,\\\n",
    "    \\\"flipper_length_mm\\\": 200.0,\\\n",
    "    \\\"body_mass_g\\\": 4500\\\n",
    "}\"\n",
    "\n",
    "# Result comment:\n",
    "# The model predicts the species of the penguin to be \"Adelie\" with a probability of 1.0"
   ]
  },
  {
   "cell_type": "code",
   "execution_count": 27,
   "metadata": {},
   "outputs": [
    {
     "name": "stdout",
     "output_type": "stream",
     "text": [
      "{\n",
      "  \"probability\": 1.0,\n",
      "  \"species\": \"Adelie\"\n",
      "}\n"
     ]
    },
    {
     "name": "stderr",
     "output_type": "stream",
     "text": [
      "  % Total    % Received % Xferd  Average Speed   Time    Time     Time  Current\n",
      "                                 Dload  Upload   Total   Spent    Left  Speed\n",
      "\n",
      "  0     0    0     0    0     0      0      0 --:--:-- --:--:-- --:--:--     0\n",
      "100   205  100    48  100   157   5994  19607 --:--:-- --:--:-- --:--:-- 29285\n"
     ]
    }
   ],
   "source": [
    "!curl --request POST \"http://127.0.0.1:8000/predict_dt\" \\\n",
    "--header \"Content-Type: application/json\" \\\n",
    "--data-raw \"{\\\n",
    "    \\\"island\\\": \\\"Biscoe\\\",\\\n",
    "    \\\"sex\\\": \\\"Male\\\",\\\n",
    "    \\\"bill_length_mm\\\": 39.7,\\\n",
    "    \\\"bill_depth_mm\\\": 19.3,\\\n",
    "    \\\"flipper_length_mm\\\": 180.0,\\\n",
    "    \\\"body_mass_g\\\": 3750\\\n",
    "}\"\n",
    "\n",
    "# Result comment:\n",
    "# The model predicts the species of the penguin to be \"Adelie\" with a probability of 1.0"
   ]
  },
  {
   "cell_type": "code",
   "execution_count": 28,
   "metadata": {},
   "outputs": [
    {
     "name": "stdout",
     "output_type": "stream",
     "text": [
      "{\n",
      "  \"probability\": 1.0,\n",
      "  \"species\": \"Gentoo\"\n",
      "}\n"
     ]
    },
    {
     "name": "stderr",
     "output_type": "stream",
     "text": [
      "  % Total    % Received % Xferd  Average Speed   Time    Time     Time  Current\n",
      "                                 Dload  Upload   Total   Spent    Left  Speed\n",
      "\n",
      "  0     0    0     0    0     0      0      0 --:--:-- --:--:-- --:--:--     0\n",
      "100   206  100    48  100   158   8295  27307 --:--:-- --:--:-- --:--:-- 41200\n"
     ]
    }
   ],
   "source": [
    "!curl --request POST \"http://127.0.0.1:8000/predict_knn\" \\\n",
    "--header \"Content-Type: application/json\" \\\n",
    "--data-raw \"{\\\n",
    "    \\\"island\\\": \\\"Dream\\\",\\\n",
    "    \\\"sex\\\": \\\"Female\\\",\\\n",
    "    \\\"bill_length_mm\\\": 50.4,\\\n",
    "    \\\"bill_depth_mm\\\": 15.9,\\\n",
    "    \\\"flipper_length_mm\\\": 178.0,\\\n",
    "    \\\"body_mass_g\\\": 6000\\\n",
    "}\"\n",
    "\n",
    "# Result comment:\n",
    "# The model predicts the species of the penguin to be \"Gentoo\" with a probability of 1.0"
   ]
  },
  {
   "cell_type": "code",
   "execution_count": 33,
   "metadata": {},
   "outputs": [
    {
     "name": "stdout",
     "output_type": "stream",
     "text": [
      "{\n",
      "  \"probability\": 1.0,\n",
      "  \"species\": \"Gentoo\"\n",
      "}\n"
     ]
    },
    {
     "name": "stderr",
     "output_type": "stream",
     "text": [
      "  % Total    % Received % Xferd  Average Speed   Time    Time     Time  Current\n",
      "                                 Dload  Upload   Total   Spent    Left  Speed\n",
      "\n",
      "  0     0    0     0    0     0      0      0 --:--:-- --:--:-- --:--:--     0\n",
      "100   158    0     0  100   158      0    157  0:00:01  0:00:01 --:--:--   157\n",
      "100   206  100    48  100   158     41    136  0:00:01  0:00:01 --:--:--   178\n"
     ]
    }
   ],
   "source": [
    "!curl --request POST \"http://127.0.0.1:8000/predict_knn\" \\\n",
    "--header \"Content-Type: application/json\" \\\n",
    "--data-raw \"{\\\n",
    "    \\\"island\\\": \\\"Dream\\\",\\\n",
    "    \\\"sex\\\": \\\"Female\\\",\\\n",
    "    \\\"bill_length_mm\\\": 44.1,\\\n",
    "    \\\"bill_depth_mm\\\": 15.8,\\\n",
    "    \\\"flipper_length_mm\\\": 215.0,\\\n",
    "    \\\"body_mass_g\\\": 4950\\\n",
    "}\"\n",
    "\n",
    "# Result comment:\n",
    "# The model predicts the species of the penguin to be \"Gentoo\" with a probability of 1.0"
   ]
  }
 ],
 "metadata": {
  "kernelspec": {
   "display_name": ".venv",
   "language": "python",
   "name": "python3"
  },
  "language_info": {
   "codemirror_mode": {
    "name": "ipython",
    "version": 3
   },
   "file_extension": ".py",
   "mimetype": "text/x-python",
   "name": "python",
   "nbconvert_exporter": "python",
   "pygments_lexer": "ipython3",
   "version": "3.12.1"
  }
 },
 "nbformat": 4,
 "nbformat_minor": 2
}
