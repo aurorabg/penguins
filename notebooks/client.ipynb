{
 "cells": [
  {
   "cell_type": "code",
   "execution_count": 4,
   "metadata": {},
   "outputs": [
    {
     "name": "stdout",
     "output_type": "stream",
     "text": [
      "{\n",
      "  \"probability\": 0.9986432929288868,\n",
      "  \"species\": \"Adelie\"\n",
      "}\n"
     ]
    },
    {
     "name": "stderr",
     "output_type": "stream",
     "text": [
      "  % Total    % Received % Xferd  Average Speed   Time    Time     Time  Current\n",
      "                                 Dload  Upload   Total   Spent    Left  Speed\n",
      "\n",
      "  0     0    0     0    0     0      0      0 --:--:-- --:--:-- --:--:--     0\n",
      "100   157    0     0  100   157      0    156  0:00:01  0:00:01 --:--:--   156\n",
      "100   220  100    63  100   157     48    121  0:00:01  0:00:01 --:--:--   169\n"
     ]
    }
   ],
   "source": [
    "!curl --request POST \"http://127.0.0.1:8000/predict_lr\" \\\n",
    "--header \"Content-Type: application/json\" \\\n",
    "--data-raw \"{\\\n",
    "    \\\"island\\\": \\\"Biscoe\\\",\\\n",
    "    \\\"sex\\\": \\\"Male\\\",\\\n",
    "    \\\"bill_length_mm\\\": 39.1,\\\n",
    "    \\\"bill_depth_mm\\\": 18.7,\\\n",
    "    \\\"flipper_length_mm\\\": 181.0,\\\n",
    "    \\\"body_mass_g\\\": 3750\\\n",
    "}\"\n"
   ]
  },
  {
   "cell_type": "code",
   "execution_count": 8,
   "metadata": {},
   "outputs": [
    {
     "name": "stdout",
     "output_type": "stream",
     "text": [
      "{\n",
      "  \"probability\": 0.9974427551629014,\n",
      "  \"species\": \"Adelie\"\n",
      "}\n"
     ]
    },
    {
     "name": "stderr",
     "output_type": "stream",
     "text": [
      "  % Total    % Received % Xferd  Average Speed   Time    Time     Time  Current\n",
      "                                 Dload  Upload   Total   Spent    Left  Speed\n",
      "\n",
      "  0     0    0     0    0     0      0      0 --:--:-- --:--:-- --:--:--     0\n",
      "100   219  100    63  100   156  17857  44217 --:--:-- --:--:-- --:--:-- 73000\n"
     ]
    }
   ],
   "source": [
    "!curl --request POST \"http://127.0.0.1:8000/predict_lr\" \\\n",
    "--header \"Content-Type: application/json\" \\\n",
    "--data-raw \"{\\\n",
    "    \\\"island\\\": \\\"Dream\\\",\\\n",
    "    \\\"sex\\\": \\\"Male\\\",\\\n",
    "    \\\"bill_length_mm\\\": 40.3,\\\n",
    "    \\\"bill_depth_mm\\\": 18.0,\\\n",
    "    \\\"flipper_length_mm\\\": 195.0,\\\n",
    "    \\\"body_mass_g\\\": 3800\\\n",
    "}\"\n"
   ]
  },
  {
   "cell_type": "code",
   "execution_count": 5,
   "metadata": {},
   "outputs": [
    {
     "name": "stdout",
     "output_type": "stream",
     "text": [
      "{\n",
      "  \"probability\": 0.8735535507889995,\n",
      "  \"species\": \"Gentoo\"\n",
      "}\n"
     ]
    },
    {
     "name": "stderr",
     "output_type": "stream",
     "text": [
      "  % Total    % Received % Xferd  Average Speed   Time    Time     Time  Current\n",
      "                                 Dload  Upload   Total   Spent    Left  Speed\n",
      "\n",
      "  0     0    0     0    0     0      0      0 --:--:-- --:--:-- --:--:--     0\n",
      "100   221  100    63  100   158  10382  26038 --:--:-- --:--:-- --:--:-- 36833\n"
     ]
    }
   ],
   "source": [
    "!curl --request POST \"http://127.0.0.1:8000/predict_svm\" \\\n",
    "--header \"Content-Type: application/json\" \\\n",
    "--data-raw \"{\\\n",
    "    \\\"island\\\": \\\"Dream\\\",\\\n",
    "    \\\"sex\\\": \\\"Female\\\",\\\n",
    "    \\\"bill_length_mm\\\": 45.2,\\\n",
    "    \\\"bill_depth_mm\\\": 15.1,\\\n",
    "    \\\"flipper_length_mm\\\": 210.0,\\\n",
    "    \\\"body_mass_g\\\": 5000\\\n",
    "}\"\n"
   ]
  },
  {
   "cell_type": "code",
   "execution_count": 9,
   "metadata": {},
   "outputs": [
    {
     "name": "stdout",
     "output_type": "stream",
     "text": [
      "{\n",
      "  \"probability\": 0.9188680905353176,\n",
      "  \"species\": \"Adelie\"\n",
      "}\n"
     ]
    },
    {
     "name": "stderr",
     "output_type": "stream",
     "text": [
      "  % Total    % Received % Xferd  Average Speed   Time    Time     Time  Current\n",
      "                                 Dload  Upload   Total   Spent    Left  Speed\n",
      "\n",
      "  0     0    0     0    0     0      0      0 --:--:-- --:--:-- --:--:--     0\n",
      "100   222  100    63  100   159  15845  39989 --:--:-- --:--:-- --:--:-- 74000\n"
     ]
    }
   ],
   "source": [
    "!curl --request POST \"http://127.0.0.1:8000/predict_svm\" \\\n",
    "--header \"Content-Type: application/json\" \\\n",
    "--data-raw \"{\\\n",
    "    \\\"island\\\": \\\"Biscoe\\\",\\\n",
    "    \\\"sex\\\": \\\"Female\\\",\\\n",
    "    \\\"bill_length_mm\\\": 42.5,\\\n",
    "    \\\"bill_depth_mm\\\": 17.4,\\\n",
    "    \\\"flipper_length_mm\\\": 190.0,\\\n",
    "    \\\"body_mass_g\\\": 4100\\\n",
    "}\"\n"
   ]
  },
  {
   "cell_type": "code",
   "execution_count": 6,
   "metadata": {},
   "outputs": [
    {
     "name": "stdout",
     "output_type": "stream",
     "text": [
      "{\n",
      "  \"probability\": 1.0,\n",
      "  \"species\": \"Adelie\"\n",
      "}\n"
     ]
    },
    {
     "name": "stderr",
     "output_type": "stream",
     "text": [
      "  % Total    % Received % Xferd  Average Speed   Time    Time     Time  Current\n",
      "                                 Dload  Upload   Total   Spent    Left  Speed\n",
      "\n",
      "  0     0    0     0    0     0      0      0 --:--:-- --:--:-- --:--:--     0\n",
      "100   208  100    48  100   160   1242   4140 --:--:-- --:--:-- --:--:--  5473\n"
     ]
    }
   ],
   "source": [
    "!curl --request POST \"http://127.0.0.1:8000/predict_dt\" \\\n",
    "--header \"Content-Type: application/json\" \\\n",
    "--data-raw \"{\\\n",
    "    \\\"island\\\": \\\"Torgersen\\\",\\\n",
    "    \\\"sex\\\": \\\"Male\\\",\\\n",
    "    \\\"bill_length_mm\\\": 40.5,\\\n",
    "    \\\"bill_depth_mm\\\": 17.2,\\\n",
    "    \\\"flipper_length_mm\\\": 200.0,\\\n",
    "    \\\"body_mass_g\\\": 4500\\\n",
    "}\"\n"
   ]
  },
  {
   "cell_type": "code",
   "execution_count": 10,
   "metadata": {},
   "outputs": [
    {
     "name": "stdout",
     "output_type": "stream",
     "text": [
      "{\n",
      "  \"probability\": 1.0,\n",
      "  \"species\": \"Adelie\"\n",
      "}\n"
     ]
    },
    {
     "name": "stderr",
     "output_type": "stream",
     "text": [
      "  % Total    % Received % Xferd  Average Speed   Time    Time     Time  Current\n",
      "                                 Dload  Upload   Total   Spent    Left  Speed\n",
      "\n",
      "  0     0    0     0    0     0      0      0 --:--:-- --:--:-- --:--:--     0\n",
      "100   208  100    48  100   160  13175  43919 --:--:-- --:--:-- --:--:-- 69333\n"
     ]
    }
   ],
   "source": [
    "!curl --request POST \"http://127.0.0.1:8000/predict_dt\" \\\n",
    "--header \"Content-Type: application/json\" \\\n",
    "--data-raw \"{\\\n",
    "    \\\"island\\\": \\\"Torgersen\\\",\\\n",
    "    \\\"sex\\\": \\\"Male\\\",\\\n",
    "    \\\"bill_length_mm\\\": 39.7,\\\n",
    "    \\\"bill_depth_mm\\\": 19.3,\\\n",
    "    \\\"flipper_length_mm\\\": 180.0,\\\n",
    "    \\\"body_mass_g\\\": 3750\\\n",
    "}\"\n"
   ]
  },
  {
   "cell_type": "code",
   "execution_count": 7,
   "metadata": {},
   "outputs": [
    {
     "name": "stdout",
     "output_type": "stream",
     "text": [
      "{\n",
      "  \"probability\": 1.0,\n",
      "  \"species\": \"Gentoo\"\n",
      "}\n"
     ]
    },
    {
     "name": "stderr",
     "output_type": "stream",
     "text": [
      "  % Total    % Received % Xferd  Average Speed   Time    Time     Time  Current\n",
      "                                 Dload  Upload   Total   Spent    Left  Speed\n",
      "\n",
      "  0     0    0     0    0     0      0      0 --:--:-- --:--:-- --:--:--     0\n",
      "100   207  100    48  100   159   7890  26138 --:--:-- --:--:-- --:--:-- 34500\n"
     ]
    }
   ],
   "source": [
    "!curl --request POST \"http://127.0.0.1:8000/predict_knn\" \\\n",
    "--header \"Content-Type: application/json\" \\\n",
    "--data-raw \"{\\\n",
    "    \\\"island\\\": \\\"Biscoe\\\",\\\n",
    "    \\\"sex\\\": \\\"Female\\\",\\\n",
    "    \\\"bill_length_mm\\\": 50.4,\\\n",
    "    \\\"bill_depth_mm\\\": 15.9,\\\n",
    "    \\\"flipper_length_mm\\\": 220.0,\\\n",
    "    \\\"body_mass_g\\\": 6000\\\n",
    "}\"\n"
   ]
  },
  {
   "cell_type": "code",
   "execution_count": 11,
   "metadata": {},
   "outputs": [
    {
     "name": "stdout",
     "output_type": "stream",
     "text": [
      "{\n",
      "  \"probability\": 1.0,\n",
      "  \"species\": \"Gentoo\"\n",
      "}\n"
     ]
    },
    {
     "name": "stderr",
     "output_type": "stream",
     "text": [
      "  % Total    % Received % Xferd  Average Speed   Time    Time     Time  Current\n",
      "                                 Dload  Upload   Total   Spent    Left  Speed\n",
      "\n",
      "  0     0    0     0    0     0      0      0 --:--:-- --:--:-- --:--:--     0\n",
      "100   206  100    48  100   158   7535  24803 --:--:-- --:--:-- --:--:-- 34333\n"
     ]
    }
   ],
   "source": [
    "!curl --request POST \"http://127.0.0.1:8000/predict_knn\" \\\n",
    "--header \"Content-Type: application/json\" \\\n",
    "--data-raw \"{\\\n",
    "    \\\"island\\\": \\\"Dream\\\",\\\n",
    "    \\\"sex\\\": \\\"Female\\\",\\\n",
    "    \\\"bill_length_mm\\\": 44.1,\\\n",
    "    \\\"bill_depth_mm\\\": 15.8,\\\n",
    "    \\\"flipper_length_mm\\\": 215.0,\\\n",
    "    \\\"body_mass_g\\\": 4950\\\n",
    "}\"\n"
   ]
  }
 ],
 "metadata": {
  "kernelspec": {
   "display_name": ".venv",
   "language": "python",
   "name": "python3"
  },
  "language_info": {
   "codemirror_mode": {
    "name": "ipython",
    "version": 3
   },
   "file_extension": ".py",
   "mimetype": "text/x-python",
   "name": "python",
   "nbconvert_exporter": "python",
   "pygments_lexer": "ipython3",
   "version": "3.12.1"
  }
 },
 "nbformat": 4,
 "nbformat_minor": 2
}
